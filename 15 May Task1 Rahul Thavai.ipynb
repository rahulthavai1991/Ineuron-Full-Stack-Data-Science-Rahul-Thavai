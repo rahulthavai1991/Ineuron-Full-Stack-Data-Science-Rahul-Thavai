{
 "cells": [
  {
   "cell_type": "code",
   "execution_count": 46,
   "id": "35aaf0e0",
   "metadata": {},
   "outputs": [],
   "source": [
    "s=\"this is My First Python programming class and i am learning python string and its function\""
   ]
  },
  {
   "cell_type": "code",
   "execution_count": 47,
   "id": "6040fb95",
   "metadata": {},
   "outputs": [
    {
     "data": {
      "text/plain": [
       "'tssyityopgmncsa alrnph rgni ni'"
      ]
     },
     "execution_count": 47,
     "metadata": {},
     "output_type": "execute_result"
    }
   ],
   "source": [
    "s[0:300:3]"
   ]
  },
  {
   "cell_type": "code",
   "execution_count": 48,
   "id": "d151d567",
   "metadata": {},
   "outputs": [
    {
     "data": {
      "text/plain": [
       "'noitcnuf sti dna gnirts nohtyp gninrael ma i dna ssalc gnimmargorp nohtyP tsriF yM si siht'"
      ]
     },
     "execution_count": 48,
     "metadata": {},
     "output_type": "execute_result"
    }
   ],
   "source": [
    "s[::-1]"
   ]
  },
  {
   "cell_type": "code",
   "execution_count": 49,
   "id": "1e23a7db",
   "metadata": {},
   "outputs": [],
   "source": [
    "s= s.upper()"
   ]
  },
  {
   "cell_type": "code",
   "execution_count": 50,
   "id": "07838fc5",
   "metadata": {},
   "outputs": [
    {
     "data": {
      "text/plain": [
       "['THIS',\n",
       " 'IS',\n",
       " 'MY',\n",
       " 'FIRST',\n",
       " 'PYTHON',\n",
       " 'PROGRAMMING',\n",
       " 'CLASS',\n",
       " 'AND',\n",
       " 'I',\n",
       " 'AM',\n",
       " 'LEARNING',\n",
       " 'PYTHON',\n",
       " 'STRING',\n",
       " 'AND',\n",
       " 'ITS',\n",
       " 'FUNCTION']"
      ]
     },
     "execution_count": 50,
     "metadata": {},
     "output_type": "execute_result"
    }
   ],
   "source": [
    "s.split()"
   ]
  },
  {
   "cell_type": "code",
   "execution_count": 51,
   "id": "0be86685",
   "metadata": {},
   "outputs": [
    {
     "data": {
      "text/plain": [
       "'this is my first python programming class and i am learning python string and its function'"
      ]
     },
     "execution_count": 51,
     "metadata": {},
     "output_type": "execute_result"
    }
   ],
   "source": [
    "s.lower()"
   ]
  },
  {
   "cell_type": "code",
   "execution_count": 52,
   "id": "c247f8ed",
   "metadata": {},
   "outputs": [
    {
     "data": {
      "text/plain": [
       "'This Is My First Python Programming Class And I Am Learning Python String And Its Function'"
      ]
     },
     "execution_count": 52,
     "metadata": {},
     "output_type": "execute_result"
    }
   ],
   "source": [
    "s.title()"
   ]
  },
  {
   "cell_type": "code",
   "execution_count": 53,
   "id": "bcf483ec",
   "metadata": {},
   "outputs": [
    {
     "data": {
      "text/plain": [
       "'This is my first python programming class and i am learning python string and its function'"
      ]
     },
     "execution_count": 53,
     "metadata": {},
     "output_type": "execute_result"
    }
   ],
   "source": [
    "s.capitalize()"
   ]
  },
  {
   "cell_type": "raw",
   "id": "f094249f",
   "metadata": {},
   "source": [
    "s. isalnum return True only if String contains combination of alphabets & Numbers. Else Returns False."
   ]
  },
  {
   "cell_type": "raw",
   "id": "4471bbe7",
   "metadata": {},
   "source": [
    "s.isalpha returns True only if all characters in string are alphabets."
   ]
  },
  {
   "cell_type": "code",
   "execution_count": 54,
   "id": "4c465e29",
   "metadata": {},
   "outputs": [],
   "source": [
    "s2=\"Rahul\\tThavai\""
   ]
  },
  {
   "cell_type": "code",
   "execution_count": 55,
   "id": "f4810075",
   "metadata": {},
   "outputs": [
    {
     "data": {
      "text/plain": [
       "'Rahul   Thavai'"
      ]
     },
     "execution_count": 55,
     "metadata": {},
     "output_type": "execute_result"
    }
   ],
   "source": [
    "s2.expandtabs()"
   ]
  },
  {
   "cell_type": "markdown",
   "id": "1ea82b0c",
   "metadata": {},
   "source": [
    "expandtabs() is used to replace \\t by tab usually 2-3 spaces"
   ]
  },
  {
   "cell_type": "code",
   "execution_count": 56,
   "id": "f264d1d5",
   "metadata": {},
   "outputs": [],
   "source": [
    "s3=\"   Rahul    \""
   ]
  },
  {
   "cell_type": "code",
   "execution_count": 57,
   "id": "5ec4c8f8",
   "metadata": {},
   "outputs": [
    {
     "data": {
      "text/plain": [
       "'Rahul    '"
      ]
     },
     "execution_count": 57,
     "metadata": {},
     "output_type": "execute_result"
    }
   ],
   "source": [
    "s3.lstrip()"
   ]
  },
  {
   "cell_type": "markdown",
   "id": "7863b007",
   "metadata": {},
   "source": [
    "lstrip() is used to remove space on left side"
   ]
  },
  {
   "cell_type": "code",
   "execution_count": 58,
   "id": "2c3ff419",
   "metadata": {},
   "outputs": [
    {
     "data": {
      "text/plain": [
       "'   Rahul'"
      ]
     },
     "execution_count": 58,
     "metadata": {},
     "output_type": "execute_result"
    }
   ],
   "source": [
    "s3.rstrip()"
   ]
  },
  {
   "cell_type": "code",
   "execution_count": 59,
   "id": "da7a2e74",
   "metadata": {},
   "outputs": [
    {
     "ename": "SyntaxError",
     "evalue": "invalid syntax (911040768.py, line 1)",
     "output_type": "error",
     "traceback": [
      "\u001b[1;36m  Input \u001b[1;32mIn [59]\u001b[1;36m\u001b[0m\n\u001b[1;33m    lstrip() is used to remove space on right side\u001b[0m\n\u001b[1;37m                     ^\u001b[0m\n\u001b[1;31mSyntaxError\u001b[0m\u001b[1;31m:\u001b[0m invalid syntax\n"
     ]
    }
   ],
   "source": [
    "lstrip() is used to remove space on right side"
   ]
  },
  {
   "cell_type": "code",
   "execution_count": 60,
   "id": "d89800fa",
   "metadata": {},
   "outputs": [
    {
     "data": {
      "text/plain": [
       "str"
      ]
     },
     "execution_count": 60,
     "metadata": {},
     "output_type": "execute_result"
    }
   ],
   "source": [
    "s4 =\"rahul\"\n",
    "type(s4)"
   ]
  },
  {
   "cell_type": "code",
   "execution_count": 61,
   "id": "ec6b27a7",
   "metadata": {},
   "outputs": [],
   "source": [
    "s4=s4.replace('rahul', 'RAHUL')"
   ]
  },
  {
   "cell_type": "code",
   "execution_count": 62,
   "id": "a84d1ff3",
   "metadata": {},
   "outputs": [
    {
     "data": {
      "text/plain": [
       "'RAHUL'"
      ]
     },
     "execution_count": 62,
     "metadata": {},
     "output_type": "execute_result"
    }
   ],
   "source": [
    "s4"
   ]
  },
  {
   "cell_type": "code",
   "execution_count": 63,
   "id": "00091786",
   "metadata": {},
   "outputs": [],
   "source": [
    "s5=\"RahulThavai\""
   ]
  },
  {
   "cell_type": "code",
   "execution_count": 64,
   "id": "9029a99f",
   "metadata": {},
   "outputs": [
    {
     "data": {
      "text/plain": [
       "'****RahulThavai*****'"
      ]
     },
     "execution_count": 64,
     "metadata": {},
     "output_type": "execute_result"
    }
   ],
   "source": [
    "s5.center(20,\"*\")"
   ]
  },
  {
   "cell_type": "markdown",
   "id": "c4a3a388",
   "metadata": {},
   "source": [
    "compiler transaltes code written in program language to language that machine understands. \n",
    "Interpreter executes code line by line"
   ]
  },
  {
   "cell_type": "markdown",
   "id": "390f37e2",
   "metadata": {},
   "source": [
    "python is compiled & interpreted language"
   ]
  },
  {
   "cell_type": "markdown",
   "id": "fb6e5590",
   "metadata": {},
   "source": [
    "We can use python in Web/Android/Software/App development. Python is used in AI, ML, CV,DL, NLP, BDA"
   ]
  }
 ],
 "metadata": {
  "kernelspec": {
   "display_name": "Python 3 (ipykernel)",
   "language": "python",
   "name": "python3"
  },
  "language_info": {
   "codemirror_mode": {
    "name": "ipython",
    "version": 3
   },
   "file_extension": ".py",
   "mimetype": "text/x-python",
   "name": "python",
   "nbconvert_exporter": "python",
   "pygments_lexer": "ipython3",
   "version": "3.9.12"
  }
 },
 "nbformat": 4,
 "nbformat_minor": 5
}
