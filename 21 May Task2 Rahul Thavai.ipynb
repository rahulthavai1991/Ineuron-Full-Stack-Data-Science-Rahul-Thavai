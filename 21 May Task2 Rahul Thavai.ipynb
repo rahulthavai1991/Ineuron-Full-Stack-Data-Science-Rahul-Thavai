{
  "nbformat": 4,
  "nbformat_minor": 0,
  "metadata": {
    "colab": {
      "name": "21 May Question Answer Rahul Thavai.ipynb",
      "provenance": [],
      "authorship_tag": "ABX9TyNeP61Vsl0eP/wiOCYZntIX",
      "include_colab_link": true
    },
    "kernelspec": {
      "name": "python3",
      "display_name": "Python 3"
    },
    "language_info": {
      "name": "python"
    }
  },
  "cells": [
    {
      "cell_type": "markdown",
      "metadata": {
        "id": "view-in-github",
        "colab_type": "text"
      },
      "source": [
        "<a href=\"https://colab.research.google.com/github/rahulthavai1991/Ineuron-Full-Stack-Data-Science-Rahul-Thavai/blob/main/21_May_Question_Answer_Rahul_Thavai.ipynb\" target=\"_parent\"><img src=\"https://colab.research.google.com/assets/colab-badge.svg\" alt=\"Open In Colab\"/></a>"
      ]
    },
    {
      "cell_type": "markdown",
      "source": [
        "#Questions \n",
        "\n",
        "l = [3,4,5,6,7 , [23,456,67,8,78,78] , [345,56,87,8,98,9] , (234,6657,6) , {\"key1\" :\"sudh\" , 234:[23,45,656]}]\n",
        "1 . Try to reverse a list \n",
        "2. try to access 234 out of this list \n",
        "3 . try to access 456 \n",
        "4 . Try to extract only a list collection form list l \n",
        "5 . Try to extract \"sudh\"\n",
        "6 . Try to list all the key in dict element avaible in list \n",
        "7 . Try to extract all the value element form dict available in list"
      ],
      "metadata": {
        "id": "DqYljOemTObz"
      }
    },
    {
      "cell_type": "code",
      "execution_count": 3,
      "metadata": {
        "id": "eyg4-CIoXGqk"
      },
      "outputs": [],
      "source": [
        "l=[3,4,5,6,7 , [23,456,67,8,78,78] , [345,56,87,8,98,9] , (234,6657,6) , {\"key1\" :\"sudh\" , 234:[23,45,656]}]"
      ]
    },
    {
      "cell_type": "code",
      "source": [
        "l.reverse()"
      ],
      "metadata": {
        "id": "SUGp0Cj8XzD1"
      },
      "execution_count": 11,
      "outputs": []
    },
    {
      "cell_type": "code",
      "source": [
        "l"
      ],
      "metadata": {
        "colab": {
          "base_uri": "https://localhost:8080/"
        },
        "id": "KLtkt9MhYBYW",
        "outputId": "3e92c83a-79f9-4196-8f9f-302ec7361fd7"
      },
      "execution_count": 13,
      "outputs": [
        {
          "output_type": "execute_result",
          "data": {
            "text/plain": [
              "[{234: [23, 45, 656], 'key1': 'sudh'},\n",
              " (234, 6657, 6),\n",
              " [345, 56, 87, 8, 98, 9],\n",
              " [23, 456, 67, 8, 78, 78],\n",
              " 7,\n",
              " 6,\n",
              " 5,\n",
              " 4,\n",
              " 3]"
            ]
          },
          "metadata": {},
          "execution_count": 13
        }
      ]
    },
    {
      "cell_type": "code",
      "source": [
        "l.reverse()"
      ],
      "metadata": {
        "id": "VMGVKiBlWbgV"
      },
      "execution_count": 14,
      "outputs": []
    },
    {
      "cell_type": "code",
      "source": [
        "l"
      ],
      "metadata": {
        "colab": {
          "base_uri": "https://localhost:8080/"
        },
        "id": "4NXz9peVWeig",
        "outputId": "0d395104-79e0-4c1d-b38c-cfcd5afe2a28"
      },
      "execution_count": 15,
      "outputs": [
        {
          "output_type": "execute_result",
          "data": {
            "text/plain": [
              "[3,\n",
              " 4,\n",
              " 5,\n",
              " 6,\n",
              " 7,\n",
              " [23, 456, 67, 8, 78, 78],\n",
              " [345, 56, 87, 8, 98, 9],\n",
              " (234, 6657, 6),\n",
              " {234: [23, 45, 656], 'key1': 'sudh'}]"
            ]
          },
          "metadata": {},
          "execution_count": 15
        }
      ]
    },
    {
      "cell_type": "code",
      "source": [
        "l[7][0]"
      ],
      "metadata": {
        "colab": {
          "base_uri": "https://localhost:8080/"
        },
        "id": "hy5tbfloYNf6",
        "outputId": "82de0740-26dc-4c13-cb8c-dae1a70a5c02"
      },
      "execution_count": 16,
      "outputs": [
        {
          "output_type": "execute_result",
          "data": {
            "text/plain": [
              "234"
            ]
          },
          "metadata": {},
          "execution_count": 16
        }
      ]
    },
    {
      "cell_type": "code",
      "source": [
        "list(l[8].keys())[1]"
      ],
      "metadata": {
        "colab": {
          "base_uri": "https://localhost:8080/"
        },
        "id": "DCE0-WhjW3Rp",
        "outputId": "a6e6f30b-87ed-4d15-9578-d01c8cc74ca8"
      },
      "execution_count": 25,
      "outputs": [
        {
          "output_type": "execute_result",
          "data": {
            "text/plain": [
              "234"
            ]
          },
          "metadata": {},
          "execution_count": 25
        }
      ]
    },
    {
      "cell_type": "code",
      "source": [
        "l[5][1]"
      ],
      "metadata": {
        "colab": {
          "base_uri": "https://localhost:8080/"
        },
        "id": "EO5B1YCDdv5M",
        "outputId": "c59e7bec-94b0-41be-828c-a5c74a85fc12"
      },
      "execution_count": 26,
      "outputs": [
        {
          "output_type": "execute_result",
          "data": {
            "text/plain": [
              "456"
            ]
          },
          "metadata": {},
          "execution_count": 26
        }
      ]
    },
    {
      "cell_type": "code",
      "source": [
        "l[5:7]"
      ],
      "metadata": {
        "colab": {
          "base_uri": "https://localhost:8080/"
        },
        "id": "WlcbwQLha3h6",
        "outputId": "1e15b1e6-0390-4b53-dbd5-c5fc30e5be9f"
      },
      "execution_count": 27,
      "outputs": [
        {
          "output_type": "execute_result",
          "data": {
            "text/plain": [
              "[[23, 456, 67, 8, 78, 78], [345, 56, 87, 8, 98, 9]]"
            ]
          },
          "metadata": {},
          "execution_count": 27
        }
      ]
    },
    {
      "cell_type": "code",
      "source": [
        "l[0]['key1']"
      ],
      "metadata": {
        "colab": {
          "base_uri": "https://localhost:8080/",
          "height": 35
        },
        "id": "kF6QWFcgeLwY",
        "outputId": "2834fd84-0fc1-44e9-b844-4be1dd099544"
      },
      "execution_count": null,
      "outputs": [
        {
          "output_type": "execute_result",
          "data": {
            "text/plain": [
              "'sudh'"
            ],
            "application/vnd.google.colaboratory.intrinsic+json": {
              "type": "string"
            }
          },
          "metadata": {},
          "execution_count": 42
        }
      ]
    },
    {
      "cell_type": "code",
      "source": [
        "l[0].keys()"
      ],
      "metadata": {
        "colab": {
          "base_uri": "https://localhost:8080/"
        },
        "id": "JLn38FfmeZ8J",
        "outputId": "86a968a9-2ad3-4ad9-aa68-2bc63a7664ac"
      },
      "execution_count": null,
      "outputs": [
        {
          "output_type": "execute_result",
          "data": {
            "text/plain": [
              "dict_keys(['key1', 234])"
            ]
          },
          "metadata": {},
          "execution_count": 46
        }
      ]
    },
    {
      "cell_type": "code",
      "source": [
        "l[0].values()"
      ],
      "metadata": {
        "colab": {
          "base_uri": "https://localhost:8080/"
        },
        "id": "9pTsUsVAe02_",
        "outputId": "14b155b3-e191-42e0-da64-eabd3c01f536"
      },
      "execution_count": null,
      "outputs": [
        {
          "output_type": "execute_result",
          "data": {
            "text/plain": [
              "dict_values(['sudh', [23, 45, 656]])"
            ]
          },
          "metadata": {},
          "execution_count": 47
        }
      ]
    }
  ]
}
